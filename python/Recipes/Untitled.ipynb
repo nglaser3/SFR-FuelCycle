{
 "cells": [
  {
   "cell_type": "code",
   "execution_count": 34,
   "id": "2c156709-21f9-46c0-accf-c1a8de753540",
   "metadata": {},
   "outputs": [],
   "source": [
    "import lxml.etree as et"
   ]
  },
  {
   "cell_type": "code",
   "execution_count": 52,
   "id": "4bc76c46-33af-4201-9ad2-0b813f126804",
   "metadata": {},
   "outputs": [],
   "source": [
    "recipes = et.parse('something.xml').getroot().getchildren()"
   ]
  },
  {
   "cell_type": "code",
   "execution_count": 61,
   "id": "17fad627-11bf-4e4b-8559-adcca712f775",
   "metadata": {},
   "outputs": [
    {
     "data": {
      "text/plain": [
       "'nuclide'"
      ]
     },
     "execution_count": 61,
     "metadata": {},
     "output_type": "execute_result"
    }
   ],
   "source": [
    "recipes[0].getchildren()[2].tag"
   ]
  },
  {
   "cell_type": "code",
   "execution_count": null,
   "id": "df952d8e-0e83-4c1e-a04e-45a7056417d1",
   "metadata": {},
   "outputs": [],
   "source": []
  }
 ],
 "metadata": {
  "kernelspec": {
   "display_name": "Python 3 (ipykernel)",
   "language": "python",
   "name": "python3"
  },
  "language_info": {
   "codemirror_mode": {
    "name": "ipython",
    "version": 3
   },
   "file_extension": ".py",
   "mimetype": "text/x-python",
   "name": "python",
   "nbconvert_exporter": "python",
   "pygments_lexer": "ipython3",
   "version": "3.10.14"
  }
 },
 "nbformat": 4,
 "nbformat_minor": 5
}

{
 "cells": [
  {
   "cell_type": "code",
   "execution_count": 1,
   "id": "c14a762c-990e-4938-856a-89d1a5c26a80",
   "metadata": {},
   "outputs": [],
   "source": [
    "import openmc.deplete as dpl\n",
    "import openmc.data as data\n",
    "import openmc\n",
    "import numpy as np\n",
    "import matplotlib.pyplot as plt"
   ]
  },
  {
   "cell_type": "code",
   "execution_count": 2,
   "id": "015c99d9-46be-40d1-8b20-f0c7e0618dbc",
   "metadata": {},
   "outputs": [],
   "source": [
    "results = dpl.results.Results('20kp_50i_150b/depletion_results.h5')\n",
    "materials = results.export_to_materials(12,path = '20kp_50i_150b/materials.xml')"
   ]
  },
  {
   "cell_type": "code",
   "execution_count": 3,
   "id": "f05d3875-6355-4a7a-b202-01c11c6e899a",
   "metadata": {},
   "outputs": [
    {
     "data": {
      "text/plain": [
       "<ErrorbarContainer object of 3 artists>"
      ]
     },
     "execution_count": 3,
     "metadata": {},
     "output_type": "execute_result"
    },
    {
     "data": {
      "image/png": "[encoded data removed]",
      "text/plain": [
       "<Figure size 640x480 with 1 Axes>"
      ]
     },
     "metadata": {},
     "output_type": "display_data"
    }
   ],
   "source": [
    "t, k_ = results.get_keff('a')\n",
    "k_eff, err = list(zip(*k_))\n",
    "plt.errorbar(t, k_eff, err)"
   ]
  },
  {
   "cell_type": "code",
   "execution_count": 4,
   "id": "54a33cb3-4a0e-4832-8cb1-8dd6dae68b04",
   "metadata": {
    "scrolled": true
   },
   "outputs": [],
   "source": [
    "mat_mass = [0]*3\n",
    "nuc_mass = {}\n",
    "time_step = results.get_step_where(20,'a')\n",
    "\n",
    "\n",
    "for mat in materials[:3]:\n",
    "    for nuc, per, _ in mat.nuclides:\n",
    "        time, mass = results.get_mass(str(mat.id), nuc, mass_units='kg', time_units='a')\n",
    "        mat_mass[mat.id-1] += mass[time_step]\n",
    "\n",
    "        try:\n",
    "            nuc_mass[nuc] += mass[time_step]\n",
    "\n",
    "        except:\n",
    "            nuc_mass[nuc] = mass[time_step]\n",
    "\n",
    "total_mass = sum(mat_mass)\n",
    "material = openmc.Material()\n",
    "for nuc, mass in nuc_mass.items():\n",
    "    material.add_nuclide(nuc, mass / total_mass, 'wo')\n",
    "    \n",
    "material.volume = 1.0\n",
    "material.set_density('g/cm3', total_mass*1e3)\n",
    "\n",
    "SNF_MATERIAL = openmc.Materials([material])\n",
    "SNF_MATERIAL.export_to_xml('spent_single_fuel.xml')"
   ]
  },
  {
   "cell_type": "markdown",
   "id": "c9cd48d4-c3bf-41f9-90b3-0e0565a2cbc2",
   "metadata": {},
   "source": [
    "# Evaluation Criteria"
   ]
  },
  {
   "cell_type": "markdown",
   "id": "859e68c7-9a24-45c5-a30f-9b48f7e0206c",
   "metadata": {},
   "source": [
    "## Nuclear Waste Management Criterion "
   ]
  },
  {
   "cell_type": "code",
   "execution_count": 40,
   "id": "531891ec-9f97-4a2f-831f-edea7610576e",
   "metadata": {},
   "outputs": [
    {
     "data": {
      "text/plain": [
       "(np.float64(228636.00000000003), np.float64(15417.600000000002))"
      ]
     },
     "execution_count": 40,
     "metadata": {},
     "output_type": "execute_result"
    }
   ],
   "source": [
    "SNF_MASS = (total_mass /1e3)\n",
    "GWh_e = .1 # 100 MWe\n",
    "GWe_YEAR = GWh_e * 24 * 365\n",
    "MASS_SNF_PER_ENERGY = SNF_MASS / GWe_YEAR\n",
    "\n",
    "## Activity is done in activty_at_ depletion...\n",
    "\n",
    "pu_mass = {}\n",
    "u_mass = {}\n",
    "for i in range(2, 246):\n",
    "    k = 'Pu' + str(i)\n",
    "    if k in nuc_mass.keys():\n",
    "        pu_mass[k] = nuc_mass[k]\n",
    "\n",
    "    k = 'U' + str(i)\n",
    "    if k in nuc_mass.keys():\n",
    "        u_mass[k] = nuc_mass[k]\n",
    "\n",
    "DU_RU_RTh = sum(u_mass.values()) / 1e3\n",
    "DU_RU_RTh_PER_ENERGY = DU_RU_RTh / GWe_YEAR\n",
    "\n",
    "#TABLE C-1.12\n",
    "LLW_PROCESS = 56\n",
    "GTCC_PROCESS = 2.6\n",
    "LLW_DD = 205\n",
    "GTCC_DD = 15\n",
    "\n",
    "LLW_PRODUCTION = np.array([LLW_PROCESS, LLW_DD]) * GWe_YEAR #m3... this has to be wrong\n",
    "GTCC_PRODUCTION = np.array([GTCC_PROCESS, GTCC_DD]) * GWe_YEAR\n",
    "sum(LLW_PRODUCTION), sum(GTCC_PRODUCTION)"
   ]
  },
  {
   "cell_type": "markdown",
   "id": "c37cd45f-530b-4aee-9bc1-79a30b651a73",
   "metadata": {},
   "source": [
    "# Proliferation"
   ]
  },
  {
   "cell_type": "code",
   "execution_count": 20,
   "id": "2fbcdcdc-2cf3-4df1-a646-f281c206deba",
   "metadata": {},
   "outputs": [],
   "source": [
    "# SQ from page 35  https://www.iaea.org/sites/default/files/iaea_safeguards_glossary.pdf\n",
    "\n",
    "#Plutonium is a direct use material, if less than 20% Pu238\n",
    "MASS_PU = sum(pu_mass.values())\n",
    "ENRICHMENT_PU239 = pu_mass['Pu239'] / MASS_PU\n",
    "ENRICHMENT_PU238 = pu_mass['Pu238'] / MASS_PU\n",
    "SQ_PU = 8.0\n",
    "NUM_SQ_PU = MASS_PU / SQ_PU\n",
    "\n",
    "\n",
    "#Uranium is a direct use material\n",
    "\n",
    "MASS_U = sum(u_mass.values())\n",
    "ENRICHMENT_U235 = u_mass['U235'] / MASS_U\n",
    "SQ_U = 75 #kg U235 in <20% enriched uranium\n",
    "NUM_SQ_U = u_mass['U235'] / SQ_U"
   ]
  },
  {
   "cell_type": "markdown",
   "id": "ff376853-faaa-486a-aa25-e3dca00ec49c",
   "metadata": {},
   "source": [
    "# Nuclear Material Security Risk Criterion"
   ]
  },
  {
   "cell_type": "code",
   "execution_count": 21,
   "id": "446b17ac-dccf-4a6f-81d8-82a58b8642de",
   "metadata": {},
   "outputs": [],
   "source": [
    "#activity at 10 years of SNF"
   ]
  },
  {
   "cell_type": "markdown",
   "id": "25c1b2ce-67f2-4f07-a5eb-cdc3c0640743",
   "metadata": {},
   "source": [
    "# Safety Criterion"
   ]
  },
  {
   "cell_type": "code",
   "execution_count": 22,
   "id": "c3dbda05-f266-4caa-9d3a-edb20dde279f",
   "metadata": {},
   "outputs": [],
   "source": [
    "# for eg2 -> likely safer that current, but hard to say, much less waste so safer, but higher enrichment...\n",
    "\n",
    "# for repro -> Much harder to say, given additional safety concerns from reprocessing"
   ]
  },
  {
   "cell_type": "markdown",
   "id": "4eeefacf-a460-413d-ab8e-94a683b3d15e",
   "metadata": {},
   "source": [
    "# Environmental Impact Criterion"
   ]
  },
  {
   "cell_type": "code",
   "execution_count": 32,
   "id": "96bd16be-f596-4bf9-b753-5866f152f670",
   "metadata": {},
   "outputs": [],
   "source": [
    "# Table C-5.2 for land-use factors. This is done in Cyclus postprocessing\n",
    "\n",
    "# Table C-5.7 for water-use factors. This is done in Cyclus postprocessing\n",
    "\n",
    "# Table C-5.15 for CO2. This is done in Cyclus postprocessing\n",
    "\n",
    "# Table C-5.41 for Factors, C-5.28 for worker dose from reactor for SFR."
   ]
  },
  {
   "cell_type": "markdown",
   "id": "453f6fd8-4047-4122-8f5f-8a5707815aa1",
   "metadata": {},
   "source": [
    "# Resource Utilization Criterion"
   ]
  },
  {
   "cell_type": "code",
   "execution_count": 41,
   "id": "53d8524c-8f03-4964-8f43-d407c5a95627",
   "metadata": {},
   "outputs": [
    {
     "data": {
      "text/plain": [
       "0.04287420662100456"
      ]
     },
     "execution_count": 41,
     "metadata": {},
     "output_type": "execute_result"
    }
   ],
   "source": [
    "# Tons of Natural Uranium used per GWe-year\n",
    "TONS_NAT_U_20YEARS = 7.511561e+02\n",
    "TONS_NAT_U_PER_ENERGY = TONS_NAT_U_20YEARS / (GWe_YEAR * 20)\n",
    "TONS_NAT_U_PER_ENERGY"
   ]
  },
  {
   "cell_type": "markdown",
   "id": "fb00862d-feed-4b72-afd5-68201d1bcc78",
   "metadata": {},
   "source": [
    "# Development and Deployment Risk Criterion"
   ]
  },
  {
   "cell_type": "code",
   "execution_count": 28,
   "id": "0879cbe6-7a48-437a-8b4a-f1315d99b8fb",
   "metadata": {},
   "outputs": [],
   "source": [
    "# Table C-7.1 for definitions\n",
    "#Likely TRL9, or TRL8 --- they identify as Bin D and C for deployment and development, respectively\n",
    "# Estimate 2-10 Billion dollars until First-Of-A-Kind\n",
    "\n",
    "#Kind of Compatible with current fuel cycle --- more than 50% of current can be used but less than 90%\n",
    "\n",
    "# Licensing --- Authors say fast reactors have little licensing experience (Only ones are DOE projects)\n",
    "\n",
    "# Capital at risk - pages 118 - 124"
   ]
  },
  {
   "cell_type": "markdown",
   "id": "96d6f807-3df0-4d10-8080-b7b396b77cb9",
   "metadata": {},
   "source": [
    "# Institutional Issues Criterion"
   ]
  },
  {
   "cell_type": "code",
   "execution_count": 30,
   "id": "51155a89-eb1f-4ba5-bfab-0a9ac51eef27",
   "metadata": {},
   "outputs": [],
   "source": [
    "#Read"
   ]
  },
  {
   "cell_type": "markdown",
   "id": "0b48243e-60bd-41f8-8ad4-3729fdfb75f3",
   "metadata": {},
   "source": [
    "# Financial Risk and Economics Criterion"
   ]
  },
  {
   "cell_type": "code",
   "execution_count": 31,
   "id": "a5bf39a6-d0bd-46d0-8f9e-b87e1b35904f",
   "metadata": {},
   "outputs": [],
   "source": [
    "# yeah i mean they give a bunch of formulas"
   ]
  },
  {
   "cell_type": "code",
   "execution_count": 45,
   "id": "3849ed5f-a911-446f-8d1c-e24391e080bb",
   "metadata": {},
   "outputs": [
    {
     "data": {
      "text/plain": [
       "array([6.84931507e-04, 2.73972603e-03, 5.47945205e-03, 1.91780822e-02,\n",
       "       4.65753425e-02, 1.28767123e-01, 2.93150685e-01, 1.29315068e+00,\n",
       "       5.00000000e+00, 1.00000000e+01, 1.50000000e+01, 2.00000000e+01])"
      ]
     },
     "execution_count": 45,
     "metadata": {},
     "output_type": "execute_result"
    }
   ],
   "source": [
    "np.cumsum([0.25, .75, 1., 5., 10., 30., 60., 365., 1353., 1825., 1825., 1825.])/365"
   ]
  },
  {
   "cell_type": "code",
   "execution_count": null,
   "id": "7a0cf13f-1474-4d39-a72c-07e0555cd650",
   "metadata": {},
   "outputs": [],
   "source": []
  }
 ],
 "metadata": {
  "kernelspec": {
   "display_name": "Python 3 (ipykernel)",
   "language": "python",
   "name": "python3"
  },
  "language_info": {
   "codemirror_mode": {
    "name": "ipython",
    "version": 3
   },
   "file_extension": ".py",
   "mimetype": "text/x-python",
   "name": "python",
   "nbconvert_exporter": "python",
   "pygments_lexer": "ipython3",
   "version": "3.10.14"
  }
 },
 "nbformat": 4,
 "nbformat_minor": 5
}

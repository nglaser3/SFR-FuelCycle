{
 "cells": [
  {
   "cell_type": "code",
   "execution_count": 1,
   "id": "f30859db",
   "metadata": {},
   "outputs": [],
   "source": [
    "import cymetric as cym\n",
    "from cymetric import filters \n",
    "from cymetric import graphs \n",
    "from cymetric import timeseries \n",
    "file = '../cyclus.sqlite'\n",
    "file = cym.tools.dbopen(file)\n",
    "ev = cym.Evaluator(file, write=False)"
   ]
  },
  {
   "cell_type": "code",
   "execution_count": null,
   "id": "dd4f3ac8",
   "metadata": {},
   "outputs": [
    {
     "ename": "KeyError",
     "evalue": "'Senders'",
     "output_type": "error",
     "traceback": [
      "\u001b[0;31m---------------------------------------------------------------------------\u001b[0m",
      "\u001b[0;31mKeyError\u001b[0m                                  Traceback (most recent call last)",
      "Cell \u001b[0;32mIn[10], line 1\u001b[0m\n\u001b[0;32m----> 1\u001b[0m \u001b[43mev\u001b[49m\u001b[38;5;241;43m.\u001b[39;49m\u001b[43mget_metric\u001b[49m\u001b[43m(\u001b[49m\u001b[38;5;124;43m'\u001b[39;49m\u001b[38;5;124;43mSenders\u001b[39;49m\u001b[38;5;124;43m'\u001b[39;49m\u001b[43m)\u001b[49m\n",
      "File \u001b[0;32m~/miniforge/envs/cyclus/lib/python3.9/site-packages/cymetric/evaluator.py:47\u001b[0m, in \u001b[0;36mEvaluator.get_metric\u001b[0;34m(self, metric)\u001b[0m\n\u001b[1;32m     45\u001b[0m \u001b[38;5;250m\u001b[39m\u001b[38;5;124;03m\"\"\"Checks if metric is already in the registry; adds it if not.\"\"\"\u001b[39;00m\n\u001b[1;32m     46\u001b[0m \u001b[38;5;28;01mif\u001b[39;00m metric \u001b[38;5;129;01mnot\u001b[39;00m \u001b[38;5;129;01min\u001b[39;00m \u001b[38;5;28mself\u001b[39m\u001b[38;5;241m.\u001b[39mmetrics:\n\u001b[0;32m---> 47\u001b[0m     \u001b[38;5;28mself\u001b[39m\u001b[38;5;241m.\u001b[39mmetrics[metric] \u001b[38;5;241m=\u001b[39m \u001b[43mMETRIC_REGISTRY\u001b[49m\u001b[43m[\u001b[49m\u001b[43mmetric\u001b[49m\u001b[43m]\u001b[49m(\u001b[38;5;28mself\u001b[39m\u001b[38;5;241m.\u001b[39mdb)\n\u001b[1;32m     48\u001b[0m \u001b[38;5;28;01mreturn\u001b[39;00m \u001b[38;5;28mself\u001b[39m\u001b[38;5;241m.\u001b[39mmetrics[metric]\n",
      "\u001b[0;31mKeyError\u001b[0m: 'Senders'"
     ]
    }
   ],
   "source": [
    "graphs.flow_graph(ev, commodities=[''])"
   ]
  },
  {
   "cell_type": "code",
   "execution_count": 18,
   "id": "a04fd749",
   "metadata": {},
   "outputs": [
    {
     "data": {
      "text/plain": [
       "{'fresh_uox', 'spent_uox', 'tails', 'u_ore'}"
      ]
     },
     "execution_count": 18,
     "metadata": {},
     "output_type": "execute_result"
    }
   ],
   "source": [
    "set(ev.eval('Transactions')['Commodity'])"
   ]
  },
  {
   "cell_type": "code",
   "execution_count": 12,
   "id": "2c026399",
   "metadata": {},
   "outputs": [
    {
     "data": {
      "text/plain": [
       "dict_keys(['Materials', 'Resources', 'Compositions', 'Transactions', 'AgentEntry', 'Agents', 'AgentExit', 'DecomSchedule', 'Info'])"
      ]
     },
     "execution_count": 12,
     "metadata": {},
     "output_type": "execute_result"
    }
   ],
   "source": [
    "ev.metrics.keys()"
   ]
  },
  {
   "cell_type": "code",
   "execution_count": null,
   "id": "63ae1fb2",
   "metadata": {},
   "outputs": [],
   "source": []
  }
 ],
 "metadata": {
  "kernelspec": {
   "display_name": "cyclus",
   "language": "python",
   "name": "python3"
  },
  "language_info": {
   "codemirror_mode": {
    "name": "ipython",
    "version": 3
   },
   "file_extension": ".py",
   "mimetype": "text/x-python",
   "name": "python",
   "nbconvert_exporter": "python",
   "pygments_lexer": "ipython3",
   "version": "3.9.19"
  }
 },
 "nbformat": 4,
 "nbformat_minor": 5
}

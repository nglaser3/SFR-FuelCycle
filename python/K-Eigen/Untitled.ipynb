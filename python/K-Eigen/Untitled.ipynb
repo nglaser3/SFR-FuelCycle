{
 "cells": [
  {
   "cell_type": "code",
   "execution_count": 1,
   "id": "a4ffbccf-f741-476c-aa5b-25320752414c",
   "metadata": {},
   "outputs": [],
   "source": [
    "import openmc"
   ]
  },
  {
   "cell_type": "code",
   "execution_count": 14,
   "id": "5044d284-a0d7-4b38-85a8-548a49e786bd",
   "metadata": {},
   "outputs": [
    {
     "ename": "TypeError",
     "evalue": "'Variable' object is not subscriptable",
     "output_type": "error",
     "traceback": [
      "\u001b[0;31m---------------------------------------------------------------------------\u001b[0m",
      "\u001b[0;31mTypeError\u001b[0m                                 Traceback (most recent call last)",
      "Cell \u001b[0;32mIn[14], line 2\u001b[0m\n\u001b[1;32m      1\u001b[0m sp \u001b[38;5;241m=\u001b[39m openmc\u001b[38;5;241m.\u001b[39mStatePoint(\u001b[38;5;124m'\u001b[39m\u001b[38;5;124mstatepoint.250.h5\u001b[39m\u001b[38;5;124m'\u001b[39m)\n\u001b[0;32m----> 2\u001b[0m \u001b[43msp\u001b[49m\u001b[38;5;241;43m.\u001b[39;49m\u001b[43mkeff\u001b[49m\u001b[43m[\u001b[49m\u001b[38;5;241;43m2\u001b[39;49m\u001b[43m]\u001b[49m\n",
      "\u001b[0;31mTypeError\u001b[0m: 'Variable' object is not subscriptable"
     ]
    }
   ],
   "source": [
    "sp = openmc.StatePoint('statepoint.250.h5')\n",
    "sp.keff"
   ]
  },
  {
   "cell_type": "code",
   "execution_count": 11,
   "id": "d8750ad9-0bcb-48cc-afd5-a2aa4046e649",
   "metadata": {},
   "outputs": [
    {
     "data": {
      "text/plain": [
       "np.float64(1.0)"
      ]
     },
     "execution_count": 11,
     "metadata": {},
     "output_type": "execute_result"
    }
   ],
   "source": [
    "sp.n_particles / 1e6"
   ]
  },
  {
   "cell_type": "code",
   "execution_count": 18,
   "id": "c1c20f1d-5967-4c13-83e5-429a7c529bca",
   "metadata": {},
   "outputs": [
    {
     "data": {
      "text/plain": [
       "1.0270091873803844"
      ]
     },
     "execution_count": 18,
     "metadata": {},
     "output_type": "execute_result"
    }
   ],
   "source": [
    "sp.keff.nominal_value\n"
   ]
  },
  {
   "cell_type": "code",
   "execution_count": 19,
   "id": "23e90321-8ab7-4c94-a0ee-7f8e7d61b4af",
   "metadata": {},
   "outputs": [
    {
     "data": {
      "text/plain": [
       "4.808364002361266e-05"
      ]
     },
     "execution_count": 19,
     "metadata": {},
     "output_type": "execute_result"
    }
   ],
   "source": [
    "sp.keff.std_dev"
   ]
  },
  {
   "cell_type": "code",
   "execution_count": null,
   "id": "d6083c74-5623-42ca-bb28-08b19203db2c",
   "metadata": {},
   "outputs": [],
   "source": []
  }
 ],
 "metadata": {
  "kernelspec": {
   "display_name": "Python 3 (ipykernel)",
   "language": "python",
   "name": "python3"
  },
  "language_info": {
   "codemirror_mode": {
    "name": "ipython",
    "version": 3
   },
   "file_extension": ".py",
   "mimetype": "text/x-python",
   "name": "python",
   "nbconvert_exporter": "python",
   "pygments_lexer": "ipython3",
   "version": "3.10.14"
  }
 },
 "nbformat": 4,
 "nbformat_minor": 5
}

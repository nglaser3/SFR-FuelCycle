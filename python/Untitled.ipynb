{
 "cells": [
  {
   "cell_type": "code",
   "execution_count": 2,
   "id": "4740c123-6d7e-43bf-a45b-600313b33606",
   "metadata": {},
   "outputs": [],
   "source": [
    "import openmc.data as data"
   ]
  },
  {
   "cell_type": "code",
   "execution_count": 9,
   "id": "1858bddb-28e4-40c3-8830-31a213b5bf86",
   "metadata": {},
   "outputs": [],
   "source": [
    "z,a,s = data.zam('Xe135')"
   ]
  },
  {
   "cell_type": "code",
   "execution_count": 15,
   "id": "587b6969-4f77-4918-a653-5fdaeb6480bb",
   "metadata": {},
   "outputs": [
    {
     "data": {
      "text/plain": [
       "541350000"
      ]
     },
     "execution_count": 15,
     "metadata": {},
     "output_type": "execute_result"
    }
   ],
   "source": [
    "z*10000000 + a*10000"
   ]
  },
  {
   "cell_type": "code",
   "execution_count": 34,
   "id": "d81f413c-1ccc-4c82-a68c-372115c24e70",
   "metadata": {},
   "outputs": [
    {
     "data": {
      "text/plain": [
       "0.0"
      ]
     },
     "execution_count": 34,
     "metadata": {},
     "output_type": "execute_result"
    }
   ],
   "source": [
    "end = 60*365\n",
    "for time in [.25, .75, 1, 5, 10, 30, 60, 365, 1353.0] + [365*5] * 3 + [365*10]*4:\n",
    "    end -= time\n",
    "\n",
    "end"
   ]
  },
  {
   "cell_type": "code",
   "execution_count": 40,
   "id": "8580d6a3-d97e-480f-9662-1bef98d716a3",
   "metadata": {},
   "outputs": [
    {
     "data": {
      "text/plain": [
       "array([   0,    0,    1,    5,   10,   30,   60,  365, 1353, 1825, 1825,\n",
       "       1825, 3650, 3650, 3650, 3650])"
      ]
     },
     "execution_count": 40,
     "metadata": {},
     "output_type": "execute_result"
    }
   ],
   "source": [
    "import numpy as np\n",
    "np.array([.25, .75, 1, 5, 10, 30, 60, 365, 1353.0] + [365*5] * 3 + [365*10]*4, dtype=int)"
   ]
  },
  {
   "cell_type": "code",
   "execution_count": 43,
   "id": "715d827a-7214-4e41-b42d-915295d6f3da",
   "metadata": {},
   "outputs": [],
   "source": [
    "times = [0.25, .75, 1., 5., 10., 30., 60., 365., 1353., 1825., 1825., 1825., 3650., 3650., 3650., 3650.]"
   ]
  },
  {
   "cell_type": "code",
   "execution_count": 44,
   "id": "38b5189a-8d20-4f65-846c-0be60cf5bde6",
   "metadata": {},
   "outputs": [
    {
     "data": {
      "text/plain": [
       "16"
      ]
     },
     "execution_count": 44,
     "metadata": {},
     "output_type": "execute_result"
    }
   ],
   "source": [
    "len(times)"
   ]
  },
  {
   "cell_type": "code",
   "execution_count": null,
   "id": "5ece3b5f-9fd8-452d-908d-4ec3c4eed1a9",
   "metadata": {},
   "outputs": [],
   "source": []
  }
 ],
 "metadata": {
  "kernelspec": {
   "display_name": "Python 3 (ipykernel)",
   "language": "python",
   "name": "python3"
  },
  "language_info": {
   "codemirror_mode": {
    "name": "ipython",
    "version": 3
   },
   "file_extension": ".py",
   "mimetype": "text/x-python",
   "name": "python",
   "nbconvert_exporter": "python",
   "pygments_lexer": "ipython3",
   "version": "3.10.14"
  }
 },
 "nbformat": 4,
 "nbformat_minor": 5
}

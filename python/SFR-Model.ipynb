{
 "cells": [
  {
   "cell_type": "code",
   "execution_count": 76,
   "id": "6656b6c5-2d89-4ae9-842b-35b7af808283",
   "metadata": {},
   "outputs": [],
   "source": [
    "import openmc\n",
    "import openmc.data as data\n",
    "import numpy as np\n",
    "import matplotlib.pyplot as plt\n",
    "import scipy as scp"
   ]
  },
  {
   "cell_type": "markdown",
   "id": "85b0f0b4-835c-403e-9705-f2f6f9175f7f",
   "metadata": {},
   "source": [
    "# Helper Functions"
   ]
  },
  {
   "cell_type": "code",
   "execution_count": 100,
   "id": "fe325ad3-5623-4d5c-af20-bfcf0ad32bfd",
   "metadata": {},
   "outputs": [],
   "source": [
    "def at2wt(*args):\n",
    "    wt_dict = {}\n",
    "    for iso, at in args:\n",
    "        mass = data.atomic_mass(iso)\n",
    "        wt_dict[iso] = at * mass\n",
    "        \n",
    "    denom = sum(wt_dict.values())\n",
    "    \n",
    "    for iso in wt_dict.keys():\n",
    "        wt_dict[iso] /= denom\n",
    "    return wt_dict \n",
    "\n",
    "def alpha(T):\n",
    "    return -0.4247 + 1.282e-3 * T + 7.362e-7 * T**2 - 2.069e-10 * T**3\n",
    "\n",
    "def density(T, rho0, t0 = 25):\n",
    "    differential = T - t0\n",
    "    return rho0 / (1 + 3 * alpha(T) * differential)\n",
    "\n",
    "def fuel_density(T):\n",
    "    U_rho = 19360 - 1.03347 * T\n",
    "    Zr_rho = 6550 - 0.1685 * T\n",
    "    atZr = .2245\n",
    "    return atZr * Zr_rho + (1-atZr) * U_rho\n",
    "\n",
    "def sodium_density(T):\n",
    "    temps = np.array([126.85, 226.85, 326.85, 426.85, 526.85, 626.85, 726.85])\n",
    "    rhos = np.array([919, 897, 874, 852, 828, 805, 781])\n",
    "    rho_func = scp.interpolate.interp1d(temps,rhos)\n",
    "    return np.float64(rho_func(T))"
   ]
  },
  {
   "cell_type": "markdown",
   "id": "45777fd3-a378-4df1-8ceb-128b53173ffc",
   "metadata": {},
   "source": [
    "# Materials"
   ]
  },
  {
   "cell_type": "code",
   "execution_count": 105,
   "id": "a428a970-0acc-4265-a315-914dffc27a64",
   "metadata": {},
   "outputs": [],
   "source": [
    "def fuel(at, suffix='',temp = 507.5):\n",
    "    \n",
    "    u235 = ('U235', at)\n",
    "    u238 = ('U238', 1-at)\n",
    "    wt = at2wt(u235, u238)['U235']\n",
    "    \n",
    "    mat = openmc.Material(name=f'fuel_{suffix}', temperature=temp)\n",
    "    \n",
    "    mat.add_element('Zr', .1, 'wo')\n",
    "    mat.add_nuclide('U235', 0.9*wt, 'wo')\n",
    "    mat.add_nuclide('U238', 0.9*(1-wt), 'wo')\n",
    "    mat.set_density('kg/m3', fuel_density(temp))\n",
    "    return mat\n",
    "\n",
    "def sodium(temp, name):\n",
    "    mat = openmc.Material(name=name, temperature=temp)\n",
    "    \n",
    "    mat.add_element('Na', 1.0)\n",
    "    mat.set_density('kg/m3', sodium_density(temp))\n",
    "    return mat\n",
    "\n",
    "def cladding(temp):\n",
    "    mat = openmc.Material(name='cladding', temperature=temp)\n",
    "    \n",
    "    mat.add_element('Fe', 85.007, 'wo')\n",
    "    mat.add_element('Cr', 11.79 , 'wo')\n",
    "    mat.add_element('Mo', 0.99  , 'wo')\n",
    "    mat.add_element('Mn', 0.59  , 'wo')\n",
    "    mat.add_element('Ni', 0.53  , 'wo')\n",
    "    mat.add_element('W' , 0.45  , 'wo')\n",
    "    mat.add_element('V' , 0.31  , 'wo')\n",
    "    mat.add_element('C' , 0.19  , 'wo')\n",
    "    mat.add_element('Si', 0.10  , 'wo')\n",
    "    mat.add_element('Nb', 0.02  , 'wo')\n",
    "    mat.add_element('P' , 0.019 , 'wo')\n",
    "    mat.add_element('N' , 0.01  , 'wo')\n",
    "    mat.add_element('S' , 0.004 , 'wo')\n",
    "\n",
    "    rho0 = 7700.0\n",
    "    mat.set_density('kg/m3', density(temp, rho0))\n",
    "    return mat\n",
    "\n",
    "def control_rod(temp):\n",
    "    mat = openmc.Material(name='control_rod', temperature=temp)\n",
    "\n",
    "    mat.add_elements_from_formula('C4B')\n",
    "\n",
    "    rho0 = 2520\n",
    "    mat.set_density('kg/m3', density(temp, rho0))\n",
    "    return mat"
   ]
  },
  {
   "cell_type": "code",
   "execution_count": 107,
   "id": "64912469-bc8e-44e5-b19f-0058c6fa40d6",
   "metadata": {},
   "outputs": [],
   "source": [
    "inner_fuel = fuel(.109, 'inner')\n",
    "middle_fuel = fuel(.124, 'middle')\n",
    "outer_fuel = fuel(.155, 'outer')\n",
    "\n",
    "bond = sodium(497.5, 'bond')\n",
    "coolant = sodium(432.5, 'coolant')\n",
    "\n",
    "clad = cladding(482.5)\n",
    "\n",
    "cntrl_rod = control_rod(450.0) # dont know cr temp\n",
    "\n",
    "MATERIALS = openmc.Materials([inner_fuel, middle_fuel, outer_fuel, bond, coolant, clad, cntrl_rod])"
   ]
  },
  {
   "cell_type": "code",
   "execution_count": null,
   "id": "dba909f9-1a98-4e35-bb8c-57246d5f8405",
   "metadata": {},
   "outputs": [],
   "source": []
  }
 ],
 "metadata": {
  "kernelspec": {
   "display_name": "Python 3 (ipykernel)",
   "language": "python",
   "name": "python3"
  },
  "language_info": {
   "codemirror_mode": {
    "name": "ipython",
    "version": 3
   },
   "file_extension": ".py",
   "mimetype": "text/x-python",
   "name": "python",
   "nbconvert_exporter": "python",
   "pygments_lexer": "ipython3",
   "version": "3.10.14"
  }
 },
 "nbformat": 4,
 "nbformat_minor": 5
}
